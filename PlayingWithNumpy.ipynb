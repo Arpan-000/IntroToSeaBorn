{
  "nbformat": 4,
  "nbformat_minor": 0,
  "metadata": {
    "colab": {
      "provenance": [],
      "authorship_tag": "ABX9TyMks9KRrKGD03s1/24dBztM",
      "include_colab_link": true
    },
    "kernelspec": {
      "name": "python3",
      "display_name": "Python 3"
    },
    "language_info": {
      "name": "python"
    }
  },
  "cells": [
    {
      "cell_type": "markdown",
      "metadata": {
        "id": "view-in-github",
        "colab_type": "text"
      },
      "source": [
        "<a href=\"https://colab.research.google.com/github/Arpan-000/PlayingWithPythonModule/blob/main/PlayingWithNumpy.ipynb\" target=\"_parent\"><img src=\"https://colab.research.google.com/assets/colab-badge.svg\" alt=\"Open In Colab\"/></a>"
      ]
    },
    {
      "cell_type": "markdown",
      "source": [
        "In this Notebook,We'll familiarise ourselves with matrix manipulation using Numpy module of Python.\n",
        "\n",
        "Vector: It's the coordinates  in the N dimensional space.\n",
        "\n"
      ],
      "metadata": {
        "id": "fF7UvxIAPl4m"
      }
    },
    {
      "cell_type": "code",
      "execution_count": 50,
      "metadata": {
        "id": "BSCFtivaPdLe"
      },
      "outputs": [],
      "source": [
        "import numpy as np\n",
        "Arr1 = np.array([3,1,2])\n",
        "Arr2 = np.array([3,6,5])"
      ]
    },
    {
      "cell_type": "code",
      "source": [
        "#add of 1D vector\n",
        "print(np.add(Arr1,Arr2))\n",
        "#sub of 1D vector\n",
        "print(np.subtract(Arr1,Arr2))\n",
        "#dot product of vector\n",
        "print(np.dot(Arr1,Arr2))\n",
        "#length o f vector\n",
        "print(np.linalg. norm(Arr1))\n",
        "#type of vector\n",
        "print(type(Arr1))\n"
      ],
      "metadata": {
        "colab": {
          "base_uri": "https://localhost:8080/"
        },
        "id": "XOR5A9XjQa0B",
        "outputId": "0ae916e7-9366-4013-a82c-e2af52948c73"
      },
      "execution_count": 51,
      "outputs": [
        {
          "output_type": "stream",
          "name": "stdout",
          "text": [
            "[6 7 7]\n",
            "[ 0 -5 -3]\n",
            "25\n",
            "3.7416573867739413\n",
            "<class 'numpy.ndarray'>\n"
          ]
        }
      ]
    },
    {
      "cell_type": "code",
      "source": [
        "# shape of arr\n",
        "Arr1.shape\n",
        "#data type of each element\n",
        "Arr1.dtype\n",
        "# print specific element\n",
        "Arr1[1,]\n",
        "# slicing\n",
        "y = Arr1[0:]  # 0: indicate from beginning  to end\n",
        "y\n",
        "\n"
      ],
      "metadata": {
        "colab": {
          "base_uri": "https://localhost:8080/"
        },
        "id": "naWD6mtwmiuE",
        "outputId": "db429d8d-f25d-417c-ab57-9583eff879b0"
      },
      "execution_count": 52,
      "outputs": [
        {
          "output_type": "execute_result",
          "data": {
            "text/plain": [
              "array([3, 1, 2])"
            ]
          },
          "metadata": {},
          "execution_count": 52
        }
      ]
    },
    {
      "cell_type": "code",
      "source": [
        "# argmax returns max  argument indices along certain axis\n",
        "print(\"prints the mmax of array indices\",end =\" \\t\")\n",
        "print(Arr1.argmax(0))\n",
        "print(\"\\n\")\n",
        "\n",
        "\n",
        "print(\"partition the  array indices\",end =\" \\t\\t\")\n",
        "print(Arr1.argpartition(0))\n",
        "print(\"\\n\")\n",
        "\n",
        "print(\"prints the min of array indices\",end =\" \\t\\t\")\n",
        "print(Arr1.argmin(0))\n",
        "print(\"\\n\")\n",
        "\n",
        "print(\"print the sorted list of array indices\",end =\"\\t \")\n",
        "print(Arr1.argsort(0))\n",
        "print(\"\\n\")\n",
        "\n",
        "Z = Arr2.copy()\n",
        "print(\"print the Z array\",end =\" \\t\\t\\t\")\n",
        "print(Z)\n",
        "print(\"\\n\")\n",
        "\n",
        "print(\"Cummulative Product\",end =\"\\t\\t\\t\")\n",
        "print(Arr1.cumprod(0))\n",
        "print(\"\\n\")\n",
        "\n",
        "#print(Arr1.diagonal(1))\n",
        "print(\"Max value\",end =\"\\t\\t\\t\\t\\t\")\n",
        "print(Arr1.max(0))\n",
        "print(\"\\n\")\n",
        "\n",
        "print(\"Min value\",end =\"\\t\\t\\t\\t\\t\")\n",
        "print(Arr1.min(0))\n",
        "print(\"\\n\")\n",
        "\n",
        "print(\"Mean value\",end =\"\\t\\t\\t\\t\\t\")\n",
        "print(Arr1.mean(0))\n",
        "print(\"\\n\")\n",
        "\n",
        "print(\"variance value\",end =\"\\t\\t\\t\\t\\t\")\n",
        "print(Arr1.var(0))\n",
        "print(\"\\n\")\n",
        "\n",
        "\n",
        "print(\"Standard deviation \",end=\"\\t\\t\\t\")\n",
        "print(Arr1.std(0))\n",
        "print(\"\\n\")\n",
        "\n",
        "print(\"Returns non zero indices\",end =\"\\t\\t\")\n",
        "print(Arr1.nonzero())\n",
        "print('\\n')\n",
        "\n",
        "# partition is used to divide in such a way that all number smaller than k is before k   but the order is not guaranteed\n",
        "print(\"Partition array w.r.t 2\",end=\"\\t\\t\\t\")\n",
        "print(Arr1)\n",
        "print(\"\\n\")\n",
        "\n",
        "print(\"partition return  None since Partition doesn't return the array is just rearranges the array \")\n",
        "print(Arr1.partition(2,axis = 0) )\n",
        "\n",
        "#np.trace to sum the diagonal\n",
        "#np.transpose"
      ],
      "metadata": {
        "colab": {
          "base_uri": "https://localhost:8080/"
        },
        "id": "NvifzrR6uxMZ",
        "outputId": "37337b73-eb87-4624-aadc-b4ffcd8e447f"
      },
      "execution_count": 113,
      "outputs": [
        {
          "output_type": "stream",
          "name": "stdout",
          "text": [
            "prints the mmax of array indices \t2\n",
            "\n",
            "\n",
            "partition the  array indices \t\t[0 1 2]\n",
            "\n",
            "\n",
            "prints the min of array indices \t\t0\n",
            "\n",
            "\n",
            "print the sorted list of array indices\t [0 1 2]\n",
            "\n",
            "\n",
            "print the Z array \t\t\t[3 6 5]\n",
            "\n",
            "\n",
            "Cummulative Product\t\t\t[1 2 6]\n",
            "\n",
            "\n",
            "Max value\t\t\t\t\t3\n",
            "\n",
            "\n",
            "Min value\t\t\t\t\t1\n",
            "\n",
            "\n",
            "Mean value\t\t\t\t\t2.0\n",
            "\n",
            "\n",
            "variance value\t\t\t\t\t0.6666666666666666\n",
            "\n",
            "\n",
            "Standard deviation \t\t\t0.816496580927726\n",
            "\n",
            "\n",
            "Returns non zero indices\t\t(array([0, 1, 2]),)\n",
            "\n",
            "\n",
            "Partition array w.r.t 2\t\t\t[1 2 3]\n",
            "\n",
            "\n",
            "partition return  None since Partition doesn't return the array is just rearranges the array \n",
            "None\n"
          ]
        }
      ]
    },
    {
      "cell_type": "code",
      "source": [
        "Arr1.all()"
      ],
      "metadata": {
        "colab": {
          "base_uri": "https://localhost:8080/"
        },
        "id": "9qsAfIzW7e5T",
        "outputId": "6366caf3-3312-448d-848c-789fd03f3c08"
      },
      "execution_count": 118,
      "outputs": [
        {
          "output_type": "execute_result",
          "data": {
            "text/plain": [
              "True"
            ]
          },
          "metadata": {},
          "execution_count": 118
        }
      ]
    }
  ]
}